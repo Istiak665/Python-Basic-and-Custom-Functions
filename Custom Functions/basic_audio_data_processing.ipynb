{
 "cells": [
  {
   "cell_type": "code",
   "execution_count": 305,
   "id": "a2f9906a",
   "metadata": {},
   "outputs": [],
   "source": [
    "import os\n",
    "import numpy as np\n",
    "import os, glob"
   ]
  },
  {
   "cell_type": "code",
   "execution_count": 306,
   "id": "7c3aaed5",
   "metadata": {},
   "outputs": [],
   "source": [
    "import librosa"
   ]
  },
  {
   "cell_type": "code",
   "execution_count": 307,
   "id": "895d39de",
   "metadata": {},
   "outputs": [],
   "source": [
    "def load_audio(file_path):\n",
    "    y, sr = librosa.load(file_path, sr=22050, mono=True, offset=0.0, duration=None)\n",
    "    return y, sr\n",
    "    "
   ]
  },
  {
   "cell_type": "code",
   "execution_count": 308,
   "id": "bd004539",
   "metadata": {},
   "outputs": [],
   "source": [
    "audio_path = path = \"audio/bulldozer_wav\"\n",
    "sample_rate = 44100\n",
    "duration = 2\n",
    "samples = sample_rate * duration"
   ]
  },
  {
   "cell_type": "code",
   "execution_count": null,
   "id": "911b9e7a",
   "metadata": {},
   "outputs": [],
   "source": []
  },
  {
   "cell_type": "code",
   "execution_count": 309,
   "id": "a8faed73",
   "metadata": {},
   "outputs": [],
   "source": [
    "# For single Folder Folder\n",
    "def read_audio_files(path, sample_rate):\n",
    "    audio_values = []\n",
    "    files = os.listdir(path)\n",
    "    for item in files:\n",
    "        if item.endswith('.wav'):\n",
    "            files = os.path.join(path, item)\n",
    "            y, sr = librosa.load(files, sr=sample_rate)\n",
    "            audio_values.append(y)\n",
    "            \n",
    "    return np.array(audio_values), sr"
   ]
  },
  {
   "cell_type": "code",
   "execution_count": null,
   "id": "6b282b98",
   "metadata": {},
   "outputs": [],
   "source": []
  },
  {
   "cell_type": "code",
   "execution_count": 310,
   "id": "9db0bdf8",
   "metadata": {},
   "outputs": [],
   "source": [
    "# For Multiple Folder Folder\n",
    "def read_audio_files_subdir(path, sample_rate):\n",
    "    filelist = []\n",
    "\n",
    "    for root, dirs, files in os.walk(path):\n",
    "        for file in files:\n",
    "            if file.endswith('.wav'):\n",
    "                all_file = os.path.join(root,file)\n",
    "                y, sr = librosa.load(all_file, sr=sample_rate)\n",
    "                filelist.append(y)\n",
    "    \n",
    "    return np.array(filelist), sr"
   ]
  },
  {
   "cell_type": "code",
   "execution_count": 311,
   "id": "75409732",
   "metadata": {},
   "outputs": [],
   "source": [
    "path = \"audio/\"\n",
    "audio, sampling_rate = read_audio_files_subdir(path, 16000)"
   ]
  },
  {
   "cell_type": "code",
   "execution_count": 312,
   "id": "9da84bcb",
   "metadata": {},
   "outputs": [],
   "source": [
    "# Extract mfcc\n",
    "def create_mfcc(y):\n",
    "    return librosa.feature.mfcc(y=y, sr=22050, S=None, n_mfcc=30)"
   ]
  },
  {
   "cell_type": "code",
   "execution_count": 319,
   "id": "57b63bbd",
   "metadata": {},
   "outputs": [
    {
     "name": "stdout",
     "output_type": "stream",
     "text": [
      "(20, 30, 156)\n",
      "(30, 156)\n"
     ]
    }
   ],
   "source": [
    "mfcc = create_mfcc(audio)\n",
    "print(mfcc.shape)\n",
    "print(mfcc[19].shape)"
   ]
  },
  {
   "cell_type": "code",
   "execution_count": 314,
   "id": "1204d514",
   "metadata": {},
   "outputs": [
    {
     "name": "stdout",
     "output_type": "stream",
     "text": [
      "[-496.75577  -272.6402   -180.29309  -157.21472  -170.48918  -182.7405\n",
      " -187.63055  -182.75954  -180.28935  -181.43127  -184.74638  -182.1943\n",
      " -182.76953  -192.15315  -190.2188   -180.55344  -176.47873  -179.17839\n",
      " -178.59111  -177.63327  -178.7582   -176.42235  -176.80475  -180.5978\n",
      " -178.1551   -178.49182  -173.07767  -171.76611  -172.10072  -177.24728\n",
      " -182.94795  -178.49168  -171.74533  -174.03107  -179.5255   -172.87592\n",
      " -171.50314  -168.87572  -170.64427  -173.3869   -168.29396  -169.13075\n",
      " -172.59236  -167.99852  -159.16656  -162.46593  -165.74681  -168.97691\n",
      " -175.77112  -177.50198  -172.69102  -176.06848  -169.47406  -164.35156\n",
      " -167.73491  -169.53394  -175.83212  -156.90454    -8.139269   50.710625\n",
      "   40.247578    9.360758  -32.18745   -71.69409  -100.6138   -125.0923\n",
      " -138.30162  -136.64212  -136.63951  -131.77756  -130.82378  -134.0589\n",
      " -137.2807   -144.4055   -145.67897  -140.46825  -134.74236  -102.70437\n",
      "  -97.37609  -112.46548  -123.46148  -136.21451  -148.88876  -150.22302\n",
      " -149.2317   -156.13377  -156.54366  -151.55617  -152.98105  -160.42656\n",
      " -154.3537   -155.33478  -159.83519  -161.74219  -159.97086  -146.80585\n",
      " -145.24559  -158.27965  -159.58994  -166.7229   -169.79309  -162.25731\n",
      " -156.7438   -162.71107  -161.14119  -154.59058  -146.97827  -132.73793\n",
      " -130.62604  -141.34488  -153.14804  -155.47874  -158.28474  -163.23177\n",
      " -170.46957  -166.91177  -159.83939  -152.43744  -148.25244  -156.23141\n",
      " -159.63808  -160.81757  -167.10896  -173.65903  -170.7827   -166.24574\n",
      " -170.1408   -179.58257  -194.73245  -201.31628  -194.9875   -192.74231\n",
      " -197.08516  -191.91095  -193.00108  -199.46944  -192.00966  -186.83842\n",
      " -180.2336   -154.48073  -157.28357  -170.36555  -179.42365  -185.34695\n",
      " -186.15186  -193.30817  -182.22296  -166.4438   -174.26932  -189.12352\n",
      " -190.34091  -186.39484  -185.28448  -196.44473  -204.21213  -220.45789 ]\n",
      "(156,)\n"
     ]
    }
   ],
   "source": [
    "print(mfcc[19][0])\n",
    "print(mfcc[19][0].shape)"
   ]
  },
  {
   "cell_type": "code",
   "execution_count": 315,
   "id": "92c40a00",
   "metadata": {},
   "outputs": [],
   "source": [
    "import matplotlib.pyplot as plt"
   ]
  },
  {
   "cell_type": "code",
   "execution_count": 316,
   "id": "192c7e4d",
   "metadata": {},
   "outputs": [
    {
     "data": {
      "text/plain": [
       "[<matplotlib.lines.Line2D at 0x25cf43152e0>]"
      ]
     },
     "execution_count": 316,
     "metadata": {},
     "output_type": "execute_result"
    },
    {
     "data": {
      "image/png": "[encoded data removed]",
      "text/plain": [
       "<Figure size 432x288 with 1 Axes>"
      ]
     },
     "metadata": {
      "needs_background": "light"
     },
     "output_type": "display_data"
    }
   ],
   "source": [
    "plt.plot(mfcc[19][0])"
   ]
  },
  {
   "cell_type": "code",
   "execution_count": 317,
   "id": "a4385093",
   "metadata": {},
   "outputs": [
    {
     "data": {
      "image/png": "[encoded data removed]",
      "text/plain": [
       "<Figure size 432x288 with 1 Axes>"
      ]
     },
     "metadata": {
      "needs_background": "light"
     },
     "output_type": "display_data"
    }
   ],
   "source": [
    "plt.plot(mfcc[0])\n",
    "plt.show()"
   ]
  },
  {
   "cell_type": "code",
   "execution_count": 325,
   "id": "c11b0e78",
   "metadata": {},
   "outputs": [
    {
     "data": {
      "text/plain": [
       "<function matplotlib.pyplot.show(close=None, block=None)>"
      ]
     },
     "execution_count": 325,
     "metadata": {},
     "output_type": "execute_result"
    },
    {
     "data": {
      "image/png": "[encoded data removed]",
      "text/plain": [
       "<Figure size 864x432 with 2 Axes>"
      ]
     },
     "metadata": {
      "needs_background": "light"
     },
     "output_type": "display_data"
    }
   ],
   "source": [
    "import librosa.display\n",
    "\n",
    "plt.figure(figsize=(12, 6))\n",
    "librosa.display.specshow(mfcc[1], x_axis='time')\n",
    "plt.colorbar()\n",
    "plt.tight_layout()\n",
    "plt.title('Dump Truck 19')\n",
    "plt.show"
   ]
  },
  {
   "cell_type": "markdown",
   "id": "95ec2631",
   "metadata": {},
   "source": [
    "# Features and labels"
   ]
  },
  {
   "cell_type": "code",
   "execution_count": 409,
   "id": "832df02c",
   "metadata": {},
   "outputs": [],
   "source": [
    "labels = ['Bulldozer_wav', 'Dump_truck']"
   ]
  },
  {
   "cell_type": "code",
   "execution_count": 410,
   "id": "522b8531",
   "metadata": {},
   "outputs": [
    {
     "name": "stdout",
     "output_type": "stream",
     "text": [
      "['bulldozer_wav', 'dump_truck_wav']\n"
     ]
    }
   ],
   "source": [
    "import os\n",
    "import pandas as pd\n",
    "audio_path = \"audio/\"\n",
    "classes = os.listdir(path)\n",
    "print(classes)"
   ]
  },
  {
   "cell_type": "code",
   "execution_count": 411,
   "id": "983a1af0",
   "metadata": {},
   "outputs": [
    {
     "name": "stdout",
     "output_type": "stream",
     "text": [
      "                                  audio_files          Label\n",
      "0  audio/bulldozer_wav/bulldozer_5sec_001.wav  bulldozer_wav\n",
      "1  audio/bulldozer_wav/bulldozer_5sec_002.wav  bulldozer_wav\n",
      "2  audio/bulldozer_wav/bulldozer_5sec_003.wav  bulldozer_wav\n",
      "3  audio/bulldozer_wav/bulldozer_5sec_004.wav  bulldozer_wav\n",
      "4  audio/bulldozer_wav/bulldozer_5sec_005.wav  bulldozer_wav\n"
     ]
    }
   ],
   "source": [
    "audio_list = []\n",
    "labels = []\n",
    "for label in classes:\n",
    "    for wav_file in os.listdir(audio_path+label):\n",
    "        audio_list.append(audio_path+label+'/'+wav_file)\n",
    "        labels.append(label)\n",
    "\n",
    "df = pd.DataFrame({'audio_files': audio_list, 'Label': labels})\n",
    "print(df.head())\n",
    "    "
   ]
  },
  {
   "cell_type": "code",
   "execution_count": 416,
   "id": "8016c653",
   "metadata": {},
   "outputs": [],
   "source": [
    "def audio_dataset(path, sample_rate):\n",
    "    audio_list = []\n",
    "    audio_values = []\n",
    "    labels = []\n",
    "    \n",
    "    classes = os.listdir(path)\n",
    "    \n",
    "    for label in classes:\n",
    "        for wav_file in os.listdir(path+label):\n",
    "            if wav_file.endswith('.wav'):\n",
    "                audio_files = audio_path+label+'/'+wav_file\n",
    "                audio_list.append(audio_files)\n",
    "                y, sr = librosa.load(audio_files, sr=sample_rate)\n",
    "                audio_values.append(y)\n",
    "                labels.append(label)\n",
    "                \n",
    "    return np.array(audio_list), np.array(audio_values), np.array(labels), sr\n",
    "    "
   ]
  },
  {
   "cell_type": "code",
   "execution_count": 527,
   "id": "1b24a9bc",
   "metadata": {},
   "outputs": [
    {
     "name": "stdout",
     "output_type": "stream",
     "text": [
      "Label Encoder: [0 0 0 0 0 0 0 0 0 0 1 1 1 1 1 1 1 1 1 1]\n"
     ]
    }
   ],
   "source": [
    "files, values, labels, sr= audio_dataset(path, 20000)\n",
    "\n",
    "label_encoder = LabelEncoder()\n",
    "integer_encoded = label_encoder.fit_transform(labels)"
   ]
  },
  {
   "cell_type": "code",
   "execution_count": 529,
   "id": "aef0a71b",
   "metadata": {},
   "outputs": [
    {
     "name": "stdout",
     "output_type": "stream",
     "text": [
      "(20,)\n",
      "(20,)\n",
      "(20, 99266)\n",
      "Label Encoder: [0 0 0 0 0 0 0 0 0 0 1 1 1 1 1 1 1 1 1 1]\n",
      "20000\n"
     ]
    }
   ],
   "source": [
    "print(files.shape)\n",
    "print(labels.shape)\n",
    "print(values.shape)\n",
    "print (\"Label Encoder:\" ,integer_encoded)\n",
    "print(sr)"
   ]
  },
  {
   "cell_type": "code",
   "execution_count": 530,
   "id": "c8f6a52c",
   "metadata": {},
   "outputs": [],
   "source": [
    "import numpy as np\n",
    "from sklearn.model_selection import train_test_split"
   ]
  },
  {
   "cell_type": "code",
   "execution_count": 533,
   "id": "6879bdea",
   "metadata": {},
   "outputs": [],
   "source": [
    "X_train, X_test, y_train, y_test = train_test_split(values, integer_encoded, test_size=0.2, random_state=42, shuffle=True)"
   ]
  },
  {
   "cell_type": "code",
   "execution_count": 536,
   "id": "d174ad47",
   "metadata": {},
   "outputs": [
    {
     "name": "stdout",
     "output_type": "stream",
     "text": [
      "(16, 99266)\n",
      "(16,)\n",
      "(4, 99266)\n",
      "(4,)\n"
     ]
    }
   ],
   "source": [
    "print(X_train.shape)\n",
    "print(y_train.shape)\n",
    "print(X_test.shape)\n",
    "print(y_test.shape)"
   ]
  },
  {
   "cell_type": "code",
   "execution_count": null,
   "id": "f67d26c8",
   "metadata": {},
   "outputs": [],
   "source": []
  },
  {
   "cell_type": "code",
   "execution_count": null,
   "id": "cbb955dc",
   "metadata": {},
   "outputs": [],
   "source": []
  },
  {
   "cell_type": "code",
   "execution_count": null,
   "id": "5bead29a",
   "metadata": {},
   "outputs": [],
   "source": []
  },
  {
   "cell_type": "code",
   "execution_count": null,
   "id": "4886fa59",
   "metadata": {},
   "outputs": [],
   "source": []
  },
  {
   "cell_type": "code",
   "execution_count": 526,
   "id": "b2557145",
   "metadata": {},
   "outputs": [
    {
     "ename": "TypeError",
     "evalue": "unhashable type: 'numpy.ndarray'",
     "output_type": "error",
     "traceback": [
      "\u001b[1;31m---------------------------------------------------------------------------\u001b[0m",
      "\u001b[1;31mTypeError\u001b[0m                                 Traceback (most recent call last)",
      "Input \u001b[1;32mIn [526]\u001b[0m, in \u001b[0;36m<cell line: 1>\u001b[1;34m()\u001b[0m\n\u001b[1;32m----> 1\u001b[0m dataset1 \u001b[38;5;241m=\u001b[39m \u001b[38;5;28;43mdict\u001b[39;49m\u001b[43m(\u001b[49m\u001b[38;5;28;43mzip\u001b[39;49m\u001b[43m(\u001b[49m\u001b[43mvalues\u001b[49m\u001b[43m,\u001b[49m\u001b[43m \u001b[49m\u001b[43mlabels\u001b[49m\u001b[43m)\u001b[49m\u001b[43m)\u001b[49m\n\u001b[0;32m      2\u001b[0m \u001b[38;5;28mprint\u001b[39m(dataset1)\n",
      "\u001b[1;31mTypeError\u001b[0m: unhashable type: 'numpy.ndarray'"
     ]
    }
   ],
   "source": [
    "dataset1 = dict(zip(values, labels))\n",
    "print(dataset1)"
   ]
  },
  {
   "cell_type": "code",
   "execution_count": null,
   "id": "03b62332",
   "metadata": {},
   "outputs": [],
   "source": []
  },
  {
   "cell_type": "code",
   "execution_count": null,
   "id": "1c3c5521",
   "metadata": {},
   "outputs": [],
   "source": []
  },
  {
   "cell_type": "code",
   "execution_count": 447,
   "id": "642772d5",
   "metadata": {},
   "outputs": [
    {
     "name": "stdout",
     "output_type": "stream",
     "text": [
      "Label Encoder: [0 0 0 0 0 0 0 0 0 0 1 1 1 1 1 1 1 1 1 1]\n"
     ]
    }
   ],
   "source": [
    "from sklearn.preprocessing import LabelBinarizer\n",
    "label_encoder = LabelEncoder()\n",
    "integer_encoded = label_encoder.fit_transform(labels)\n",
    "print (\"Label Encoder:\" ,integer_encoded)"
   ]
  },
  {
   "cell_type": "code",
   "execution_count": null,
   "id": "4d4ee71d",
   "metadata": {},
   "outputs": [],
   "source": []
  },
  {
   "cell_type": "code",
   "execution_count": 452,
   "id": "f31a7fc7",
   "metadata": {},
   "outputs": [
    {
     "data": {
      "text/html": [
       "<div>\n",
       "<style scoped>\n",
       "    .dataframe tbody tr th:only-of-type {\n",
       "        vertical-align: middle;\n",
       "    }\n",
       "\n",
       "    .dataframe tbody tr th {\n",
       "        vertical-align: top;\n",
       "    }\n",
       "\n",
       "    .dataframe thead th {\n",
       "        text-align: right;\n",
       "    }\n",
       "</style>\n",
       "<table border=\"1\" class=\"dataframe\">\n",
       "  <thead>\n",
       "    <tr style=\"text-align: right;\">\n",
       "      <th></th>\n",
       "      <th>audio_files</th>\n",
       "      <th>equipment</th>\n",
       "      <th>labels</th>\n",
       "    </tr>\n",
       "  </thead>\n",
       "  <tbody>\n",
       "    <tr>\n",
       "      <th>0</th>\n",
       "      <td>audio/bulldozer_wav/bulldozer_5sec_001.wav</td>\n",
       "      <td>bulldozer_wav</td>\n",
       "      <td>0</td>\n",
       "    </tr>\n",
       "    <tr>\n",
       "      <th>1</th>\n",
       "      <td>audio/bulldozer_wav/bulldozer_5sec_002.wav</td>\n",
       "      <td>bulldozer_wav</td>\n",
       "      <td>0</td>\n",
       "    </tr>\n",
       "    <tr>\n",
       "      <th>2</th>\n",
       "      <td>audio/bulldozer_wav/bulldozer_5sec_003.wav</td>\n",
       "      <td>bulldozer_wav</td>\n",
       "      <td>0</td>\n",
       "    </tr>\n",
       "    <tr>\n",
       "      <th>3</th>\n",
       "      <td>audio/bulldozer_wav/bulldozer_5sec_004.wav</td>\n",
       "      <td>bulldozer_wav</td>\n",
       "      <td>0</td>\n",
       "    </tr>\n",
       "    <tr>\n",
       "      <th>4</th>\n",
       "      <td>audio/bulldozer_wav/bulldozer_5sec_005.wav</td>\n",
       "      <td>bulldozer_wav</td>\n",
       "      <td>0</td>\n",
       "    </tr>\n",
       "    <tr>\n",
       "      <th>5</th>\n",
       "      <td>audio/bulldozer_wav/bulldozer_5sec_006.wav</td>\n",
       "      <td>bulldozer_wav</td>\n",
       "      <td>0</td>\n",
       "    </tr>\n",
       "    <tr>\n",
       "      <th>6</th>\n",
       "      <td>audio/bulldozer_wav/bulldozer_5sec_007.wav</td>\n",
       "      <td>bulldozer_wav</td>\n",
       "      <td>0</td>\n",
       "    </tr>\n",
       "    <tr>\n",
       "      <th>7</th>\n",
       "      <td>audio/bulldozer_wav/bulldozer_5sec_008.wav</td>\n",
       "      <td>bulldozer_wav</td>\n",
       "      <td>0</td>\n",
       "    </tr>\n",
       "    <tr>\n",
       "      <th>8</th>\n",
       "      <td>audio/bulldozer_wav/bulldozer_5sec_009.wav</td>\n",
       "      <td>bulldozer_wav</td>\n",
       "      <td>0</td>\n",
       "    </tr>\n",
       "    <tr>\n",
       "      <th>9</th>\n",
       "      <td>audio/bulldozer_wav/bulldozer_5sec_010.wav</td>\n",
       "      <td>bulldozer_wav</td>\n",
       "      <td>0</td>\n",
       "    </tr>\n",
       "    <tr>\n",
       "      <th>10</th>\n",
       "      <td>audio/dump_truck_wav/dump_truck_5sec_001.wav</td>\n",
       "      <td>dump_truck_wav</td>\n",
       "      <td>1</td>\n",
       "    </tr>\n",
       "    <tr>\n",
       "      <th>11</th>\n",
       "      <td>audio/dump_truck_wav/dump_truck_5sec_002.wav</td>\n",
       "      <td>dump_truck_wav</td>\n",
       "      <td>1</td>\n",
       "    </tr>\n",
       "    <tr>\n",
       "      <th>12</th>\n",
       "      <td>audio/dump_truck_wav/dump_truck_5sec_003.wav</td>\n",
       "      <td>dump_truck_wav</td>\n",
       "      <td>1</td>\n",
       "    </tr>\n",
       "    <tr>\n",
       "      <th>13</th>\n",
       "      <td>audio/dump_truck_wav/dump_truck_5sec_004.wav</td>\n",
       "      <td>dump_truck_wav</td>\n",
       "      <td>1</td>\n",
       "    </tr>\n",
       "    <tr>\n",
       "      <th>14</th>\n",
       "      <td>audio/dump_truck_wav/dump_truck_5sec_005.wav</td>\n",
       "      <td>dump_truck_wav</td>\n",
       "      <td>1</td>\n",
       "    </tr>\n",
       "    <tr>\n",
       "      <th>15</th>\n",
       "      <td>audio/dump_truck_wav/dump_truck_5sec_006.wav</td>\n",
       "      <td>dump_truck_wav</td>\n",
       "      <td>1</td>\n",
       "    </tr>\n",
       "    <tr>\n",
       "      <th>16</th>\n",
       "      <td>audio/dump_truck_wav/dump_truck_5sec_007.wav</td>\n",
       "      <td>dump_truck_wav</td>\n",
       "      <td>1</td>\n",
       "    </tr>\n",
       "    <tr>\n",
       "      <th>17</th>\n",
       "      <td>audio/dump_truck_wav/dump_truck_5sec_008.wav</td>\n",
       "      <td>dump_truck_wav</td>\n",
       "      <td>1</td>\n",
       "    </tr>\n",
       "    <tr>\n",
       "      <th>18</th>\n",
       "      <td>audio/dump_truck_wav/dump_truck_5sec_009.wav</td>\n",
       "      <td>dump_truck_wav</td>\n",
       "      <td>1</td>\n",
       "    </tr>\n",
       "    <tr>\n",
       "      <th>19</th>\n",
       "      <td>audio/dump_truck_wav/dump_truck_5sec_010.wav</td>\n",
       "      <td>dump_truck_wav</td>\n",
       "      <td>1</td>\n",
       "    </tr>\n",
       "  </tbody>\n",
       "</table>\n",
       "</div>"
      ],
      "text/plain": [
       "                                     audio_files       equipment  labels\n",
       "0     audio/bulldozer_wav/bulldozer_5sec_001.wav   bulldozer_wav       0\n",
       "1     audio/bulldozer_wav/bulldozer_5sec_002.wav   bulldozer_wav       0\n",
       "2     audio/bulldozer_wav/bulldozer_5sec_003.wav   bulldozer_wav       0\n",
       "3     audio/bulldozer_wav/bulldozer_5sec_004.wav   bulldozer_wav       0\n",
       "4     audio/bulldozer_wav/bulldozer_5sec_005.wav   bulldozer_wav       0\n",
       "5     audio/bulldozer_wav/bulldozer_5sec_006.wav   bulldozer_wav       0\n",
       "6     audio/bulldozer_wav/bulldozer_5sec_007.wav   bulldozer_wav       0\n",
       "7     audio/bulldozer_wav/bulldozer_5sec_008.wav   bulldozer_wav       0\n",
       "8     audio/bulldozer_wav/bulldozer_5sec_009.wav   bulldozer_wav       0\n",
       "9     audio/bulldozer_wav/bulldozer_5sec_010.wav   bulldozer_wav       0\n",
       "10  audio/dump_truck_wav/dump_truck_5sec_001.wav  dump_truck_wav       1\n",
       "11  audio/dump_truck_wav/dump_truck_5sec_002.wav  dump_truck_wav       1\n",
       "12  audio/dump_truck_wav/dump_truck_5sec_003.wav  dump_truck_wav       1\n",
       "13  audio/dump_truck_wav/dump_truck_5sec_004.wav  dump_truck_wav       1\n",
       "14  audio/dump_truck_wav/dump_truck_5sec_005.wav  dump_truck_wav       1\n",
       "15  audio/dump_truck_wav/dump_truck_5sec_006.wav  dump_truck_wav       1\n",
       "16  audio/dump_truck_wav/dump_truck_5sec_007.wav  dump_truck_wav       1\n",
       "17  audio/dump_truck_wav/dump_truck_5sec_008.wav  dump_truck_wav       1\n",
       "18  audio/dump_truck_wav/dump_truck_5sec_009.wav  dump_truck_wav       1\n",
       "19  audio/dump_truck_wav/dump_truck_5sec_010.wav  dump_truck_wav       1"
      ]
     },
     "execution_count": 452,
     "metadata": {},
     "output_type": "execute_result"
    }
   ],
   "source": [
    "df = pd.DataFrame({'audio_files': files, 'equipment': labels, 'labels': integer_encoded})\n",
    "df.head(20)"
   ]
  },
  {
   "cell_type": "markdown",
   "id": "975b5d0d",
   "metadata": {},
   "source": [
    "# Scikit-learn's LabelBinarizer vs. OneHotEncoder"
   ]
  },
  {
   "cell_type": "code",
   "execution_count": 434,
   "id": "2d829279",
   "metadata": {},
   "outputs": [],
   "source": [
    "from numpy import array\n",
    "from sklearn.preprocessing import LabelEncoder\n",
    "from sklearn.preprocessing import OneHotEncoder\n",
    "from sklearn.preprocessing import LabelBinarizer"
   ]
  },
  {
   "cell_type": "code",
   "execution_count": 444,
   "id": "d7b8884a",
   "metadata": {},
   "outputs": [
    {
     "name": "stdout",
     "output_type": "stream",
     "text": [
      "Type: <class 'list'>\n",
      "Type: <class 'numpy.ndarray'>\n",
      "Domension: 1\n"
     ]
    }
   ],
   "source": [
    "# define example\n",
    "data = ['cold', 'cold', 'warm', 'cold', 'hot', 'hot', 'warm', 'cold', \n",
    "'warm', 'hot']\n",
    "values = array(data)\n",
    "print(f\"Type: {type(data)}\")\n",
    "print(f\"Type: {type(values)}\")\n",
    "print(f\"Domension: {values.ndim}\")"
   ]
  },
  {
   "cell_type": "markdown",
   "id": "71e5186a",
   "metadata": {},
   "source": [
    "### integer encode"
   ]
  },
  {
   "cell_type": "code",
   "execution_count": 446,
   "id": "9d1eff11",
   "metadata": {},
   "outputs": [
    {
     "name": "stdout",
     "output_type": "stream",
     "text": [
      "Label Encoder: [0 0 2 0 1 1 2 0 2 1]\n"
     ]
    }
   ],
   "source": [
    "label_encoder = LabelEncoder()\n",
    "integer_encoded = label_encoder.fit_transform(values)\n",
    "print (\"Label Encoder:\" ,integer_encoded)"
   ]
  },
  {
   "cell_type": "code",
   "execution_count": 454,
   "id": "73ae0f59",
   "metadata": {},
   "outputs": [
    {
     "name": "stdout",
     "output_type": "stream",
     "text": [
      "OneHot Encoder: [[1. 0.]\n",
      " [1. 0.]\n",
      " [1. 0.]\n",
      " [1. 0.]\n",
      " [1. 0.]\n",
      " [1. 0.]\n",
      " [1. 0.]\n",
      " [1. 0.]\n",
      " [1. 0.]\n",
      " [1. 0.]\n",
      " [0. 1.]\n",
      " [0. 1.]\n",
      " [0. 1.]\n",
      " [0. 1.]\n",
      " [0. 1.]\n",
      " [0. 1.]\n",
      " [0. 1.]\n",
      " [0. 1.]\n",
      " [0. 1.]\n",
      " [0. 1.]]\n"
     ]
    }
   ],
   "source": [
    "# onehot encode\n",
    "onehot_encoder = OneHotEncoder(sparse=False)\n",
    "integer_encoded = integer_encoded.reshape(len(integer_encoded), 1)\n",
    "onehot_encoded = onehot_encoder.fit_transform(integer_encoded)\n",
    "print (\"OneHot Encoder:\", onehot_encoded)"
   ]
  },
  {
   "cell_type": "code",
   "execution_count": 458,
   "id": "54f6d553",
   "metadata": {},
   "outputs": [
    {
     "name": "stdout",
     "output_type": "stream",
     "text": [
      "Label Binarizer: [[1 0 0]\n",
      " [1 0 0]\n",
      " [0 0 1]\n",
      " [1 0 0]\n",
      " [0 1 0]\n",
      " [0 1 0]\n",
      " [0 0 1]\n",
      " [1 0 0]\n",
      " [0 0 1]\n",
      " [0 1 0]]\n"
     ]
    }
   ],
   "source": [
    "#Binary encode\n",
    "lb = LabelBinarizer()\n",
    "print (\"Label Binarizer:\", lb.fit_transform(values))"
   ]
  },
  {
   "cell_type": "markdown",
   "id": "b5c910a4",
   "metadata": {},
   "source": [
    "# Audio Data Mixing"
   ]
  },
  {
   "cell_type": "code",
   "execution_count": 459,
   "id": "9e0640a9",
   "metadata": {},
   "outputs": [],
   "source": [
    "files, values, labels, sr= audio_dataset(path, 20000)"
   ]
  },
  {
   "cell_type": "code",
   "execution_count": 482,
   "id": "cc8ea600",
   "metadata": {},
   "outputs": [
    {
     "name": "stdout",
     "output_type": "stream",
     "text": [
      "(99266,)\n",
      "(99266,)\n",
      "(99266,)\n"
     ]
    }
   ],
   "source": [
    "mixed1 = 0.3*(values[0]+values[10])\n",
    "print(values[0].shape)\n",
    "print(values[10].shape)\n",
    "print(mixed1.shape)"
   ]
  },
  {
   "cell_type": "code",
   "execution_count": 487,
   "id": "ba06214b",
   "metadata": {},
   "outputs": [
    {
     "data": {
      "text/plain": [
       "Text(0.5, 1.0, 'bulldozer1')"
      ]
     },
     "execution_count": 487,
     "metadata": {},
     "output_type": "execute_result"
    },
    {
     "data": {
      "image/png": "[encoded data removed]",
      "text/plain": [
       "<Figure size 864x432 with 1 Axes>"
      ]
     },
     "metadata": {
      "needs_background": "light"
     },
     "output_type": "display_data"
    }
   ],
   "source": [
    "# Plot first and 11\n",
    "import librosa.display\n",
    "\n",
    "plt.figure(figsize=(12, 6))\n",
    "plt.plot(values[0])\n",
    "plt.title('bulldozer1')"
   ]
  },
  {
   "cell_type": "code",
   "execution_count": 488,
   "id": "4b6434d6",
   "metadata": {},
   "outputs": [
    {
     "data": {
      "text/plain": [
       "Text(0.5, 1.0, 'dump_truck1')"
      ]
     },
     "execution_count": 488,
     "metadata": {},
     "output_type": "execute_result"
    },
    {
     "data": {
      "image/png": "[encoded data removed]",
      "text/plain": [
       "<Figure size 864x432 with 1 Axes>"
      ]
     },
     "metadata": {
      "needs_background": "light"
     },
     "output_type": "display_data"
    }
   ],
   "source": [
    "plt.figure(figsize=(12, 6))\n",
    "plt.plot(values[10])\n",
    "plt.title('dump_truck1')"
   ]
  },
  {
   "cell_type": "code",
   "execution_count": 489,
   "id": "1b326888",
   "metadata": {},
   "outputs": [
    {
     "data": {
      "text/plain": [
       "Text(0.5, 1.0, 'mixed1')"
      ]
     },
     "execution_count": 489,
     "metadata": {},
     "output_type": "execute_result"
    },
    {
     "data": {
      "image/png": "[encoded data removed]",
      "text/plain": [
       "<Figure size 864x432 with 1 Axes>"
      ]
     },
     "metadata": {
      "needs_background": "light"
     },
     "output_type": "display_data"
    }
   ],
   "source": [
    "plt.figure(figsize=(12, 6))\n",
    "plt.plot(mixed1)\n",
    "plt.title('mixed1')"
   ]
  },
  {
   "cell_type": "code",
   "execution_count": 507,
   "id": "21f9d915",
   "metadata": {},
   "outputs": [
    {
     "name": "stdout",
     "output_type": "stream",
     "text": [
      "(array([1.        , 1.        , 1.        , ..., 0.88359046, 0.87552255,\n",
      "       1.        ], dtype=float32), 'v')\n"
     ]
    }
   ],
   "source": [
    "dataset = list(zip(values, labels))\n",
    "print(dataset[0])"
   ]
  },
  {
   "cell_type": "code",
   "execution_count": 506,
   "id": "46e9e0a4",
   "metadata": {},
   "outputs": [
    {
     "name": "stdout",
     "output_type": "stream",
     "text": [
      "[]\n"
     ]
    }
   ],
   "source": [
    "for feature, label in zip(values, labels):\n",
    "    X = list(features)\n",
    "    y = list(label)\n",
    "    print(X)"
   ]
  },
  {
   "cell_type": "code",
   "execution_count": 505,
   "id": "2e027f72",
   "metadata": {},
   "outputs": [
    {
     "name": "stdout",
     "output_type": "stream",
     "text": [
      "[]\n"
     ]
    }
   ],
   "source": []
  },
  {
   "cell_type": "code",
   "execution_count": null,
   "id": "1b8b7b9d",
   "metadata": {},
   "outputs": [],
   "source": []
  }
 ],
 "metadata": {
  "kernelspec": {
   "display_name": "Python 3 (ipykernel)",
   "language": "python",
   "name": "python3"
  },
  "language_info": {
   "codemirror_mode": {
    "name": "ipython",
    "version": 3
   },
   "file_extension": ".py",
   "mimetype": "text/x-python",
   "name": "python",
   "nbconvert_exporter": "python",
   "pygments_lexer": "ipython3",
   "version": "3.8.3"
  }
 },
 "nbformat": 4,
 "nbformat_minor": 5
}
